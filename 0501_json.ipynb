{
 "cells": [
  {
   "attachments": {},
   "cell_type": "markdown",
   "metadata": {},
   "source": [
    "What does JSON look like?"
   ]
  },
  {
   "attachments": {},
   "cell_type": "markdown",
   "metadata": {},
   "source": [
    "{\n",
    "    \"firstName\": \"Jane\",\n",
    "    \"lastName\": \"Doe\",\n",
    "    \"hobbies\": [\"running\", \"sky diving\", \"singing\"],\n",
    "    \"age\": 35,\n",
    "    \"children\": [\n",
    "        {\n",
    "            \"firstName\": \"Alice\",\n",
    "            \"age\": 6\n",
    "        },\n",
    "        {\n",
    "            \"firstName\": \"Bob\",\n",
    "            \"age\": 8\n",
    "        }\n",
    "    ]\n",
    "}"
   ]
  },
  {
   "cell_type": "code",
   "execution_count": 1,
   "metadata": {},
   "outputs": [],
   "source": [
    "import json\n",
    "from pprint import pp\n",
    "import requests"
   ]
  },
  {
   "attachments": {},
   "cell_type": "markdown",
   "metadata": {},
   "source": [
    "Serialize a  python dictionary into a JSON object"
   ]
  },
  {
   "cell_type": "code",
   "execution_count": 4,
   "metadata": {},
   "outputs": [],
   "source": [
    "data = {\n",
    "    \"president\": {\n",
    "        \"name\": \"Zaphod Beeblebrox\",\n",
    "        \"species\": \"Betelgeusian\"\n",
    "    }\n",
    "}\n",
    "\n",
    "with open(\"data_file.json\", \"w\") as write_file:\n",
    "    json.dump(data, write_file)\n",
    "    #first arguement is data object to be serialized\n",
    "    #Second arguement is the file object to which we will write to \n",
    "    "
   ]
  },
  {
   "cell_type": "code",
   "execution_count": 29,
   "metadata": {},
   "outputs": [
    {
     "name": "stdout",
     "output_type": "stream",
     "text": [
      "{\"president\": {\"name\": \"Zaphod Beeblebrox\", \"species\": \"Betelgeusian\"}}\n",
      "'{\"president\": {\"name\": \"Zaphod Beeblebrox\", \"species\": \"Betelgeusian\"}}'\n",
      "<class 'str'>\n"
     ]
    }
   ],
   "source": [
    "json_string= json.dumps(data)\n",
    "print(json_string)\n",
    "pp(json_string)\n",
    "print(type(json_string))"
   ]
  },
  {
   "cell_type": "code",
   "execution_count": null,
   "metadata": {},
   "outputs": [],
   "source": []
  },
  {
   "attachments": {},
   "cell_type": "markdown",
   "metadata": {},
   "source": []
  },
  {
   "cell_type": "code",
   "execution_count": 27,
   "metadata": {},
   "outputs": [
    {
     "name": "stdout",
     "output_type": "stream",
     "text": [
      "True\n",
      "<class 'tuple'>\n",
      "<class 'list'>\n"
     ]
    }
   ],
   "source": [
    "blackjack_hand=(8, \"Q\")\n",
    "encoded_hand= json.dumps(blackjack_hand)\n",
    "decoded_hand= json.loads(encoded_hand)\n",
    "\n",
    "\n",
    "print(blackjack_hand == decoded_hand)\n",
    "\n",
    "print(type(blackjack_hand))\n",
    "print(type(decoded_hand))"
   ]
  },
  {
   "attachments": {},
   "cell_type": "markdown",
   "metadata": {},
   "source": [
    "Deserialization "
   ]
  },
  {
   "cell_type": "code",
   "execution_count": 30,
   "metadata": {},
   "outputs": [],
   "source": [
    "with open(\"data_file.json\", \"r\") as read_file:\n",
    "    data= json.load(read_file)"
   ]
  },
  {
   "cell_type": "code",
   "execution_count": 6,
   "metadata": {},
   "outputs": [
    {
     "name": "stdout",
     "output_type": "stream",
     "text": [
      "<class 'list'>\n"
     ]
    }
   ],
   "source": [
    "response=  requests.get(\"https://jsonplaceholder.typicode.com/todos\")\n",
    "todos= json.loads(response.text)\n",
    "\n",
    "print(type(todos))\n",
    "\n"
   ]
  },
  {
   "cell_type": "code",
   "execution_count": 40,
   "metadata": {},
   "outputs": [
    {
     "name": "stdout",
     "output_type": "stream",
     "text": [
      "[{'userId': 1, 'id': 1, 'title': 'delectus aut autem', 'completed': False},\n",
      " {'userId': 1,\n",
      "  'id': 2,\n",
      "  'title': 'quis ut nam facilis et officia qui',\n",
      "  'completed': False},\n",
      " {'userId': 1, 'id': 3, 'title': 'fugiat veniam minus', 'completed': False},\n",
      " {'userId': 1, 'id': 4, 'title': 'et porro tempora', 'completed': True},\n",
      " {'userId': 1,\n",
      "  'id': 5,\n",
      "  'title': 'laboriosam mollitia et enim quasi adipisci quia provident illum',\n",
      "  'completed': False},\n",
      " {'userId': 1,\n",
      "  'id': 6,\n",
      "  'title': 'qui ullam ratione quibusdam voluptatem quia omnis',\n",
      "  'completed': False},\n",
      " {'userId': 1,\n",
      "  'id': 7,\n",
      "  'title': 'illo expedita consequatur quia in',\n",
      "  'completed': False},\n",
      " {'userId': 1,\n",
      "  'id': 8,\n",
      "  'title': 'quo adipisci enim quam ut ab',\n",
      "  'completed': True},\n",
      " {'userId': 1,\n",
      "  'id': 9,\n",
      "  'title': 'molestiae perspiciatis ipsa',\n",
      "  'completed': False},\n",
      " {'userId': 1,\n",
      "  'id': 10,\n",
      "  'title': 'illo est ratione doloremque quia maiores aut',\n",
      "  'completed': True}]\n"
     ]
    }
   ],
   "source": [
    "pp(todos[:10])"
   ]
  },
  {
   "cell_type": "code",
   "execution_count": 44,
   "metadata": {},
   "outputs": [
    {
     "name": "stdout",
     "output_type": "stream",
     "text": [
      "[{'userId': 1, 'id': 4, 'title': 'et porro tempora', 'completed': True},\n",
      " {'userId': 1,\n",
      "  'id': 8,\n",
      "  'title': 'quo adipisci enim quam ut ab',\n",
      "  'completed': True},\n",
      " {'userId': 1,\n",
      "  'id': 10,\n",
      "  'title': 'illo est ratione doloremque quia maiores aut',\n",
      "  'completed': True},\n",
      " {'userId': 1,\n",
      "  'id': 11,\n",
      "  'title': 'vero rerum temporibus dolor',\n",
      "  'completed': True},\n",
      " {'userId': 1,\n",
      "  'id': 12,\n",
      "  'title': 'ipsa repellendus fugit nisi',\n",
      "  'completed': True},\n",
      " {'userId': 1,\n",
      "  'id': 14,\n",
      "  'title': 'repellendus sunt dolores architecto voluptatum',\n",
      "  'completed': True},\n",
      " {'userId': 1,\n",
      "  'id': 15,\n",
      "  'title': 'ab voluptatum amet voluptas',\n",
      "  'completed': True},\n",
      " {'userId': 1,\n",
      "  'id': 16,\n",
      "  'title': 'accusamus eos facilis sint et aut voluptatem',\n",
      "  'completed': True},\n",
      " {'userId': 1,\n",
      "  'id': 17,\n",
      "  'title': 'quo laboriosam deleniti aut qui',\n",
      "  'completed': True},\n",
      " {'userId': 1,\n",
      "  'id': 19,\n",
      "  'title': 'molestiae ipsa aut voluptatibus pariatur dolor nihil',\n",
      "  'completed': True},\n",
      " {'userId': 1,\n",
      "  'id': 20,\n",
      "  'title': 'ullam nobis libero sapiente ad optio sint',\n",
      "  'completed': True},\n",
      " {'userId': 2,\n",
      "  'id': 22,\n",
      "  'title': 'distinctio vitae autem nihil ut molestias quo',\n",
      "  'completed': True},\n",
      " {'userId': 2,\n",
      "  'id': 25,\n",
      "  'title': 'voluptas quo tenetur perspiciatis explicabo natus',\n",
      "  'completed': True},\n",
      " {'userId': 2, 'id': 26, 'title': 'aliquam aut quasi', 'completed': True},\n",
      " {'userId': 2,\n",
      "  'id': 27,\n",
      "  'title': 'veritatis pariatur delectus',\n",
      "  'completed': True},\n",
      " {'userId': 2,\n",
      "  'id': 30,\n",
      "  'title': 'nemo perspiciatis repellat ut dolor libero commodi blanditiis '\n",
      "           'omnis',\n",
      "  'completed': True},\n",
      " {'userId': 2,\n",
      "  'id': 35,\n",
      "  'title': 'repellendus veritatis molestias dicta incidunt',\n",
      "  'completed': True},\n",
      " {'userId': 2,\n",
      "  'id': 36,\n",
      "  'title': 'excepturi deleniti adipisci voluptatem et neque optio illum ad',\n",
      "  'completed': True},\n",
      " {'userId': 2,\n",
      "  'id': 40,\n",
      "  'title': 'totam atque quo nesciunt',\n",
      "  'completed': True},\n",
      " {'userId': 3,\n",
      "  'id': 43,\n",
      "  'title': 'tempore ut sint quis recusandae',\n",
      "  'completed': True},\n",
      " {'userId': 3,\n",
      "  'id': 44,\n",
      "  'title': 'cum debitis quis accusamus doloremque ipsa natus sapiente omnis',\n",
      "  'completed': True},\n",
      " {'userId': 3,\n",
      "  'id': 50,\n",
      "  'title': 'cupiditate necessitatibus ullam aut quis dolor voluptate',\n",
      "  'completed': True},\n",
      " {'userId': 3,\n",
      "  'id': 54,\n",
      "  'title': 'quis et est ut voluptate quam dolor',\n",
      "  'completed': True},\n",
      " {'userId': 3,\n",
      "  'id': 55,\n",
      "  'title': 'voluptatum omnis minima qui occaecati provident nulla voluptatem '\n",
      "           'ratione',\n",
      "  'completed': True},\n",
      " {'userId': 3,\n",
      "  'id': 56,\n",
      "  'title': 'deleniti ea temporibus enim',\n",
      "  'completed': True},\n",
      " {'userId': 3,\n",
      "  'id': 60,\n",
      "  'title': 'et sequi qui architecto ut adipisci',\n",
      "  'completed': True},\n",
      " {'userId': 4,\n",
      "  'id': 61,\n",
      "  'title': 'odit optio omnis qui sunt',\n",
      "  'completed': True},\n",
      " {'userId': 4,\n",
      "  'id': 63,\n",
      "  'title': 'doloremque aut dolores quidem fuga qui nulla',\n",
      "  'completed': True},\n",
      " {'userId': 4,\n",
      "  'id': 73,\n",
      "  'title': 'sint amet quia totam corporis qui exercitationem commodi',\n",
      "  'completed': True},\n",
      " {'userId': 4, 'id': 76, 'title': 'sequi dolorem sed', 'completed': True},\n",
      " {'userId': 4, 'id': 79, 'title': 'eum ipsa maxime ut', 'completed': True},\n",
      " {'userId': 4,\n",
      "  'id': 80,\n",
      "  'title': 'tempore molestias dolores rerum sequi voluptates ipsum consequatur',\n",
      "  'completed': True},\n",
      " {'userId': 5, 'id': 81, 'title': 'suscipit qui totam', 'completed': True},\n",
      " {'userId': 5,\n",
      "  'id': 83,\n",
      "  'title': 'quidem at rerum quis ex aut sit quam',\n",
      "  'completed': True},\n",
      " {'userId': 5, 'id': 85, 'title': 'et quia ad iste a', 'completed': True},\n",
      " {'userId': 5, 'id': 86, 'title': 'incidunt ut saepe autem', 'completed': True},\n",
      " {'userId': 5,\n",
      "  'id': 87,\n",
      "  'title': 'laudantium quae eligendi consequatur quia et vero autem',\n",
      "  'completed': True},\n",
      " {'userId': 5, 'id': 89, 'title': 'sequi ut omnis et', 'completed': True},\n",
      " {'userId': 5,\n",
      "  'id': 90,\n",
      "  'title': 'molestiae nisi accusantium tenetur dolorem et',\n",
      "  'completed': True},\n",
      " {'userId': 5,\n",
      "  'id': 91,\n",
      "  'title': 'nulla quis consequatur saepe qui id expedita',\n",
      "  'completed': True},\n",
      " {'userId': 5, 'id': 92, 'title': 'in omnis laboriosam', 'completed': True},\n",
      " {'userId': 5,\n",
      "  'id': 93,\n",
      "  'title': 'odio iure consequatur molestiae quibusdam necessitatibus quia sint',\n",
      "  'completed': True},\n",
      " {'userId': 5,\n",
      "  'id': 95,\n",
      "  'title': 'vel nihil et molestiae iusto assumenda nemo quo ut',\n",
      "  'completed': True},\n",
      " {'userId': 5,\n",
      "  'id': 98,\n",
      "  'title': 'debitis accusantium ut quo facilis nihil quis sapiente '\n",
      "           'necessitatibus',\n",
      "  'completed': True},\n",
      " {'userId': 6,\n",
      "  'id': 105,\n",
      "  'title': 'totam quia dolorem et illum repellat voluptas optio',\n",
      "  'completed': True},\n",
      " {'userId': 6,\n",
      "  'id': 106,\n",
      "  'title': 'ad illo quis voluptatem temporibus',\n",
      "  'completed': True},\n",
      " {'userId': 6,\n",
      "  'id': 108,\n",
      "  'title': 'a eos eaque nihil et exercitationem incidunt delectus',\n",
      "  'completed': True},\n",
      " {'userId': 6,\n",
      "  'id': 109,\n",
      "  'title': 'autem temporibus harum quisquam in culpa',\n",
      "  'completed': True},\n",
      " {'userId': 6, 'id': 110, 'title': 'aut aut ea corporis', 'completed': True},\n",
      " {'userId': 6,\n",
      "  'id': 116,\n",
      "  'title': 'ipsa dolores vel facilis ut',\n",
      "  'completed': True},\n",
      " {'userId': 7,\n",
      "  'id': 121,\n",
      "  'title': 'inventore aut nihil minima laudantium hic qui omnis',\n",
      "  'completed': True},\n",
      " {'userId': 7,\n",
      "  'id': 122,\n",
      "  'title': 'provident aut nobis culpa',\n",
      "  'completed': True},\n",
      " {'userId': 7,\n",
      "  'id': 126,\n",
      "  'title': 'ut asperiores perspiciatis veniam ipsum rerum saepe',\n",
      "  'completed': True},\n",
      " {'userId': 7,\n",
      "  'id': 127,\n",
      "  'title': 'voluptatem libero consectetur rerum ut',\n",
      "  'completed': True},\n",
      " {'userId': 7,\n",
      "  'id': 130,\n",
      "  'title': 'nulla aliquid eveniet harum laborum libero alias ut unde',\n",
      "  'completed': True},\n",
      " {'userId': 7,\n",
      "  'id': 132,\n",
      "  'title': 'qui molestiae voluptatibus velit iure harum quisquam',\n",
      "  'completed': True},\n",
      " {'userId': 7,\n",
      "  'id': 133,\n",
      "  'title': 'et labore eos enim rerum consequatur sunt',\n",
      "  'completed': True},\n",
      " {'userId': 7,\n",
      "  'id': 138,\n",
      "  'title': 'placeat minima consequatur rem qui ut',\n",
      "  'completed': True},\n",
      " {'userId': 7,\n",
      "  'id': 140,\n",
      "  'title': 'aut consectetur in blanditiis deserunt quia sed laboriosam',\n",
      "  'completed': True},\n",
      " {'userId': 8,\n",
      "  'id': 141,\n",
      "  'title': 'explicabo consectetur debitis voluptates quas quae culpa rerum non',\n",
      "  'completed': True},\n",
      " {'userId': 8,\n",
      "  'id': 142,\n",
      "  'title': 'maiores accusantium architecto necessitatibus reiciendis ea aut',\n",
      "  'completed': True},\n",
      " {'userId': 8,\n",
      "  'id': 146,\n",
      "  'title': 'molestiae suscipit ratione nihil odio libero impedit vero totam',\n",
      "  'completed': True},\n",
      " {'userId': 8,\n",
      "  'id': 147,\n",
      "  'title': 'eum itaque quod reprehenderit et facilis dolor autem ut',\n",
      "  'completed': True},\n",
      " {'userId': 8,\n",
      "  'id': 151,\n",
      "  'title': 'accusamus adipisci dicta qui quo ea explicabo sed vero',\n",
      "  'completed': True},\n",
      " {'userId': 8, 'id': 154, 'title': 'rerum non ex sapiente', 'completed': True},\n",
      " {'userId': 8,\n",
      "  'id': 155,\n",
      "  'title': 'voluptatem nobis consequatur et assumenda magnam',\n",
      "  'completed': True},\n",
      " {'userId': 8,\n",
      "  'id': 156,\n",
      "  'title': 'nam quia quia nulla repellat assumenda quibusdam sit nobis',\n",
      "  'completed': True},\n",
      " {'userId': 8,\n",
      "  'id': 157,\n",
      "  'title': 'dolorem veniam quisquam deserunt repellendus',\n",
      "  'completed': True},\n",
      " {'userId': 8,\n",
      "  'id': 158,\n",
      "  'title': 'debitis vitae delectus et harum accusamus aut deleniti a',\n",
      "  'completed': True},\n",
      " {'userId': 8,\n",
      "  'id': 159,\n",
      "  'title': 'debitis adipisci quibusdam aliquam sed dolore ea praesentium nobis',\n",
      "  'completed': True},\n",
      " {'userId': 9,\n",
      "  'id': 161,\n",
      "  'title': 'ex hic consequuntur earum omnis alias ut occaecati culpa',\n",
      "  'completed': True},\n",
      " {'userId': 9,\n",
      "  'id': 162,\n",
      "  'title': 'omnis laboriosam molestias animi sunt dolore',\n",
      "  'completed': True},\n",
      " {'userId': 9,\n",
      "  'id': 169,\n",
      "  'title': 'ea odio perferendis officiis',\n",
      "  'completed': True},\n",
      " {'userId': 9,\n",
      "  'id': 171,\n",
      "  'title': 'fugiat aut voluptatibus corrupti deleniti velit iste odio',\n",
      "  'completed': True},\n",
      " {'userId': 9,\n",
      "  'id': 175,\n",
      "  'title': 'laudantium eius officia perferendis provident perspiciatis '\n",
      "           'asperiores',\n",
      "  'completed': True},\n",
      " {'userId': 9,\n",
      "  'id': 178,\n",
      "  'title': 'nesciunt itaque commodi tempore',\n",
      "  'completed': True},\n",
      " {'userId': 9,\n",
      "  'id': 179,\n",
      "  'title': 'omnis consequuntur cupiditate impedit itaque ipsam quo',\n",
      "  'completed': True},\n",
      " {'userId': 9,\n",
      "  'id': 180,\n",
      "  'title': 'debitis nisi et dolorem repellat et',\n",
      "  'completed': True},\n",
      " {'userId': 10,\n",
      "  'id': 182,\n",
      "  'title': 'inventore saepe cumque et aut illum enim',\n",
      "  'completed': True},\n",
      " {'userId': 10,\n",
      "  'id': 183,\n",
      "  'title': 'omnis nulla eum aliquam distinctio',\n",
      "  'completed': True},\n",
      " {'userId': 10, 'id': 188, 'title': 'vel non beatae est', 'completed': True},\n",
      " {'userId': 10,\n",
      "  'id': 189,\n",
      "  'title': 'culpa eius et voluptatem et',\n",
      "  'completed': True},\n",
      " {'userId': 10,\n",
      "  'id': 190,\n",
      "  'title': 'accusamus sint iusto et voluptatem exercitationem',\n",
      "  'completed': True},\n",
      " {'userId': 10,\n",
      "  'id': 191,\n",
      "  'title': 'temporibus atque distinctio omnis eius impedit tempore molestias '\n",
      "           'pariatur',\n",
      "  'completed': True},\n",
      " {'userId': 10,\n",
      "  'id': 193,\n",
      "  'title': 'rerum debitis voluptatem qui eveniet tempora distinctio a',\n",
      "  'completed': True},\n",
      " {'userId': 10,\n",
      "  'id': 195,\n",
      "  'title': 'rerum ex veniam mollitia voluptatibus pariatur',\n",
      "  'completed': True},\n",
      " {'userId': 10,\n",
      "  'id': 196,\n",
      "  'title': 'consequuntur aut ut fugit similique',\n",
      "  'completed': True},\n",
      " {'userId': 10,\n",
      "  'id': 197,\n",
      "  'title': 'dignissimos quo nobis earum saepe',\n",
      "  'completed': True},\n",
      " {'userId': 10,\n",
      "  'id': 198,\n",
      "  'title': 'quis eius est sint explicabo',\n",
      "  'completed': True},\n",
      " {'userId': 10,\n",
      "  'id': 199,\n",
      "  'title': 'numquam repellendus a magnam',\n",
      "  'completed': True}]\n"
     ]
    }
   ],
   "source": [
    "completed= []\n",
    "\n",
    "for i in todos:\n",
    "    #print(i)\n",
    "    if i['completed']:\n",
    "        completed.append(i)\n",
    "\n",
    "pp(completed)\n"
   ]
  },
  {
   "cell_type": "code",
   "execution_count": 45,
   "metadata": {},
   "outputs": [
    {
     "name": "stdout",
     "output_type": "stream",
     "text": [
      "{1: 11, 2: 8, 3: 7, 4: 6, 5: 12, 6: 6, 7: 9, 8: 11, 9: 8, 10: 12}\n"
     ]
    }
   ],
   "source": [
    "user_todos= {}\n",
    "\n",
    "for i in todos:\n",
    "    if i['completed']:\n",
    "        if i['userId'] in user_todos:\n",
    "            user_todos[i['userId']] += 1\n",
    "        else:\n",
    "            user_todos[i['userId']] = 1\n",
    "\n",
    "print(user_todos)\n"
   ]
  },
  {
   "cell_type": "code",
   "execution_count": 47,
   "metadata": {},
   "outputs": [
    {
     "name": "stdout",
     "output_type": "stream",
     "text": [
      "{1: 11, 2: 8, 3: 7, 4: 6, 5: 12, 6: 6, 7: 9, 8: 11, 9: 8, 10: 12}\n"
     ]
    }
   ],
   "source": [
    "todo_counter= {}\n",
    "for todo in todos:\n",
    "    if todo['completed']:\n",
    "        try:\n",
    "            todo_counter[todo['userId']] += 1\n",
    "        except KeyError:\n",
    "            todo_counter[todo['userId']] = 1\n",
    "\n",
    "print(todo_counter)"
   ]
  },
  {
   "cell_type": "code",
   "execution_count": 49,
   "metadata": {},
   "outputs": [
    {
     "name": "stdout",
     "output_type": "stream",
     "text": [
      "{1: 11, 2: 8, 3: 7, 4: 6, 5: 12, 6: 6, 7: 9, 8: 11, 9: 8, 10: 12}\n"
     ]
    }
   ],
   "source": [
    "count_todos={}\n",
    "\n",
    "for i in todos:\n",
    "    if i['completed']:\n",
    "        count_todos[i['userId']]= count_todos.get(i['userId'], 0) + 1\n",
    "\n",
    "print(count_todos)"
   ]
  },
  {
   "cell_type": "code",
   "execution_count": 58,
   "metadata": {},
   "outputs": [
    {
     "name": "stdout",
     "output_type": "stream",
     "text": [
      "[(5, 12), (10, 12), (1, 11), (8, 11), (7, 9), (2, 8), (9, 8), (3, 7), (4, 6), (6, 6)]\n"
     ]
    }
   ],
   "source": [
    "top_users= sorted(user_todos.items(), key=lambda x: x[1], reverse=True)\n",
    "print(top_users)"
   ]
  },
  {
   "cell_type": "code",
   "execution_count": 57,
   "metadata": {},
   "outputs": [
    {
     "name": "stdout",
     "output_type": "stream",
     "text": [
      "[(10, 12), (5, 12), (1, 11), (8, 11), (7, 9), (2, 8), (9, 8), (3, 7), (4, 6), (6, 6)]\n"
     ]
    }
   ],
   "source": [
    "test1= {1: 11, 2: 8, 3: 7, 4: 6, 10: 12, 6: 6, 7: 9, 8: 11, 9: 8, 5: 12}\n",
    "top_users= sorted(test1.items(), key=lambda x: x[1], reverse=True)\n",
    "print(top_users)"
   ]
  },
  {
   "cell_type": "code",
   "execution_count": 64,
   "metadata": {},
   "outputs": [
    {
     "name": "stdout",
     "output_type": "stream",
     "text": [
      "12\n",
      "[5, 10]\n"
     ]
    }
   ],
   "source": [
    "users= []\n",
    "max_value= top_users[0][1]\n",
    "print(max_value)\n",
    "for x, y in top_users:\n",
    "    #print('x is ' + str(x))\n",
    "    #print('y is ' + str(y))\n",
    "    if y == max_value:\n",
    "        users.append(x)\n",
    "\n",
    "print(users)"
   ]
  }
 ],
 "metadata": {
  "kernelspec": {
   "display_name": "Python 3",
   "language": "python",
   "name": "python3"
  },
  "language_info": {
   "codemirror_mode": {
    "name": "ipython",
    "version": 3
   },
   "file_extension": ".py",
   "mimetype": "text/x-python",
   "name": "python",
   "nbconvert_exporter": "python",
   "pygments_lexer": "ipython3",
   "version": "3.10.10"
  },
  "orig_nbformat": 4
 },
 "nbformat": 4,
 "nbformat_minor": 2
}
