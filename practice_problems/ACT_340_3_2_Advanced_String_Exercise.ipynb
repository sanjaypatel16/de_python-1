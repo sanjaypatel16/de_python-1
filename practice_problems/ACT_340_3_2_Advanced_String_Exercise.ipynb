{
  "nbformat": 4,
  "nbformat_minor": 0,
  "metadata": {
    "colab": {
      "provenance": []
    },
    "kernelspec": {
      "name": "python3",
      "display_name": "Python 3"
    },
    "language_info": {
      "name": "python"
    }
  },
  "cells": [
    {
      "cell_type": "markdown",
      "source": [
        "# String Excercises- Advanced\n",
        "\n",
        "Complete the following practice excercises below to build up your skills with manipulating strings."
      ],
      "metadata": {
        "id": "cUylAN2Ilryc"
      }
    },
    {
      "cell_type": "markdown",
      "source": [
        "**Problem 1**\n",
        "\n",
        "Create a new string with the following sentence:\n",
        "\n",
        "“You learn more from failure than from success.\"\n",
        "<br></br>\n",
        "* Use the 1st, 4th, and last charachter to create a new string."
      ],
      "metadata": {
        "id": "27IbcjVcl6Bh"
      }
    },
    {
      "cell_type": "code",
      "source": [],
      "metadata": {
        "id": "Swq_joOAmZB2"
      },
      "execution_count": null,
      "outputs": []
    },
    {
      "cell_type": "markdown",
      "source": [
        "**Problem 2**\n",
        "\n",
        "* Use the same string variable from above\n",
        "* Use the replace() method to replace the \".\" with an \"!\""
      ],
      "metadata": {
        "id": "mGPUZkRTmoqN"
      }
    },
    {
      "cell_type": "code",
      "source": [],
      "metadata": {
        "id": "Seg9HXsFnHn-"
      },
      "execution_count": null,
      "outputs": []
    },
    {
      "cell_type": "markdown",
      "source": [
        "**Problem 3**\n",
        "\n",
        "*   Use the string variable below and create a new variable that has all of the charachters from the original string as lowercase charachters\n",
        "\n",
        "\n"
      ],
      "metadata": {
        "id": "ZdxYpOtrnIz8"
      }
    },
    {
      "cell_type": "code",
      "source": [
        "new_str= \"“WHEN YOU Change your thougHts, remember to ALSO change your world.”\""
      ],
      "metadata": {
        "id": "fciZlwkwnjNb"
      },
      "execution_count": null,
      "outputs": []
    },
    {
      "cell_type": "markdown",
      "source": [
        "**Problem 4**\n",
        "\n",
        "\n",
        "*   Take the new_str variable from above and make all of charachters uppercase\n",
        "\n",
        "\n"
      ],
      "metadata": {
        "id": "cip5r4CRn3G4"
      }
    },
    {
      "cell_type": "code",
      "source": [],
      "metadata": {
        "id": "nFnFU3-ooHvA"
      },
      "execution_count": null,
      "outputs": []
    },
    {
      "cell_type": "markdown",
      "source": [
        "**Problem 5**\n",
        "\n",
        "* Use the string variable below and the startswith() method to check and see if the string starts with the charachter \"Z\".\n",
        "* Check if it starts with the charachter \"t\"\n"
      ],
      "metadata": {
        "id": "HzCVplcwoPxU"
      }
    },
    {
      "cell_type": "code",
      "source": [
        "new_str= \"There are no traffic jams along the extra mile.\""
      ],
      "metadata": {
        "id": "1TAzCILcovZk"
      },
      "execution_count": null,
      "outputs": []
    },
    {
      "cell_type": "markdown",
      "source": [
        "**Problem 6**\n",
        "\n",
        "\n",
        "\n",
        "*   Use the same new_str variable and the index() method to identify the index of charachter \"j\"\n",
        "\n",
        "\n"
      ],
      "metadata": {
        "id": "U5iHAc6MoubS"
      }
    },
    {
      "cell_type": "code",
      "source": [],
      "metadata": {
        "id": "w3MhXXFxpTil"
      },
      "execution_count": null,
      "outputs": []
    },
    {
      "cell_type": "markdown",
      "source": [
        "**Problem 7**\n",
        "\n",
        "*   Use the same new_str variable\n",
        "*   Use the count() method to find the number of times \"t\" and \"o\" appear in a string\n",
        "* Create a print statement that has both results in one statement. You can use string concatenation, fstring, or any other way you can think of!\n",
        "\n"
      ],
      "metadata": {
        "id": "63odwi1_pU-h"
      }
    },
    {
      "cell_type": "code",
      "source": [],
      "metadata": {
        "id": "2okBBd33p6O-"
      },
      "execution_count": null,
      "outputs": []
    },
    {
      "cell_type": "markdown",
      "source": [
        "**Problem 8**\n",
        "\n",
        "* Using the string below, find the length of the given string."
      ],
      "metadata": {
        "id": "u1UpWwGjp_qu"
      }
    },
    {
      "cell_type": "code",
      "source": [
        "greeting= \"Good Morning!\""
      ],
      "metadata": {
        "id": "SAErNiQXqNiq"
      },
      "execution_count": null,
      "outputs": []
    },
    {
      "cell_type": "markdown",
      "source": [
        "**Problem 9**\n",
        "\n",
        "\n",
        "\n",
        "*   Use the string below, and documentation on string methods to find if all the charachters in a string are alpha charachters.\n",
        "\n"
      ],
      "metadata": {
        "id": "PlVi5hw8q6ha"
      }
    },
    {
      "cell_type": "code",
      "source": [
        "alphabet= \"abcdefghijklmnopqrstuvwxyz\""
      ],
      "metadata": {
        "id": "jBsKOU-drQdV"
      },
      "execution_count": null,
      "outputs": []
    },
    {
      "cell_type": "markdown",
      "source": [
        "**Problem 10**\n",
        "\n",
        "Use the string below to complete the following:\n",
        "\n",
        "\n",
        "*   Use the find() method for the value \"y\"\n",
        "*   Use the index() method for the value \"y\"\n",
        "*  Create a comment explaining the difference between the two methods\n",
        "\n",
        "\n",
        "\n"
      ],
      "metadata": {
        "id": "34l2TSFMrYvv"
      }
    },
    {
      "cell_type": "code",
      "source": [
        "learning= \"Learning is fun!\""
      ],
      "metadata": {
        "id": "8ki6bRY-sHBf"
      },
      "execution_count": null,
      "outputs": []
    }
  ]
}